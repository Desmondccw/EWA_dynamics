{
 "cells": [
  {
   "cell_type": "markdown",
   "metadata": {},
   "source": [
    "In this notebook, we will estimate the fixed points corresponding to EWA learning dynamics in the Gamma > 0 (potential-like game) setting.  Recall the fixed points of the effective dynamics $x(z)$ obey the following equation as found via the path integral method.\n",
    "\n",
    "\\begin{equation}\n",
    "0=  \\left[\\Gamma  x(z) \\chi - \\frac{1}{r} \\ln x(z) + \\sqrt{q}z - \\rho \\right]x(z)\n",
    "\\end{equation}\n",
    "\n",
    "where:\n",
    "\n",
    "$z \\sim \\mathcal{N} (0,1)$\n",
    "\n",
    "For $\\Gamma > 0$,\n",
    "$ \\left[\\Gamma  x(z) \\chi - \\frac{1}{r} \\ln x(z) + \\sqrt{q}z - \\rho \\right] = 0 $ does not have a solution for all $z$.  Thus, we have to set $x(z) = 0 $ for some $z$.\n",
    "\n",
    "## The most Interior fixed point\n",
    "\n",
    "We propose the following Ansatz for $x(z)$ in this regime.\n",
    "\n",
    "$\\begin{align}\n",
    "x(z)= \n",
    "\\begin{cases}\n",
    "Ke^{bz+ax(z)} \\; \\; &, z < z_{crit} \\\\\n",
    "0 \\; \\; &, z \\geq z_{crit}\n",
    "\\end{cases}\n",
    "\\end{align}$\n",
    "\n",
    "where:\n",
    "$\\begin{align}\n",
    "a&= \\Gamma \\chi r \\\\\n",
    "b&= \\sqrt{q} r > 0 \\\\\n",
    "z_{crit} &= -\\frac{1}{b} \\left( 1 + \\ln(\\alpha K)\\right) \\\\\n",
    "\\end{align}$\n",
    "\n",
    "The parameters, $(K, a , b)$ ,must obey the following 'self-sufficiency' conditions: \n",
    "\n",
    "$\\begin{align} \n",
    "q &= \\int^{z_{crit}}_{-\\infty} x^2(z) Dz \\notag \\\\ \n",
    "1 &= \\int^{z_{crit}}_{-\\infty} x(z) Dz\\notag  \\\\\n",
    "\\chi &= \\int^{z_{crit}}_{-\\infty} \\frac{d x(z)}{dz} Dz\\notag  \\\\\n",
    "\\end{align}$\n",
    "\n",
    "where:\n",
    "\n",
    "$Dz$ is pdf corresponding to the standard normal.\n",
    "\n",
    "This Ansatz represents the 'most-interior' fixed points of our dynamics.  Further fixed points of $x(z)$  could be found by reducing $z_{crit}$, thereby increasing the regime where $x(z) = 0$"
   ]
  },
  {
   "cell_type": "code",
   "execution_count": 8,
   "metadata": {},
   "outputs": [],
   "source": [
    "#Import Packages\n",
    "\n",
    "import numpy as np\n",
    "from scipy.integrate import quad\n",
    "import scipy.stats as stats\n",
    "from scipy import optimize\n",
    "from scipy.optimize import minimize\n",
    "from scipy.special import lambertw\n",
    "\n",
    "import warnings\n"
   ]
  },
  {
   "cell_type": "markdown",
   "metadata": {},
   "source": [
    "### Define functions x(z), dx/dz and Dz"
   ]
  },
  {
   "cell_type": "code",
   "execution_count": 3,
   "metadata": {},
   "outputs": [],
   "source": [
    "def return_x(K, a , b):\n",
    "\n",
    "    '''Input: \n",
    "    Parameters K, a , b'''\n",
    "    '''Output: \n",
    "    functions- x(z), dx(z)/dz\n",
    "    crit_values- z_crit, x(z_crit)'''\n",
    "\n",
    "    def x(z):\n",
    "        return np.real(-(1/a) * lambertw( -K * a * np.exp(b*z) , tol=1e-12))\n",
    "    \n",
    "    def deriv_x(z):\n",
    "        xz= x(z)\n",
    "\n",
    "        return b*xz/  (1- a* xz)\n",
    "    \n",
    "    x_crit = 1/a\n",
    "    \n",
    "    crit_z = -(1+ np.log(a* K)) / b\n",
    "    \n",
    "    return x, deriv_x, crit_z , x_crit\n",
    "\n",
    "def Dz(z):\n",
    "    '''Pdf of standard normal'''\n",
    "    return np.exp(-z**2/2) / np.sqrt(2*np.pi)"
   ]
  },
  {
   "cell_type": "markdown",
   "metadata": {},
   "source": [
    "### Define loss functions and stability condition"
   ]
  },
  {
   "cell_type": "markdown",
   "metadata": {},
   "source": [
    "The stability condition takes this form:\n",
    "\n",
    "$$\n",
    "\\begin{align}\n",
    " \\int \\bigg|\\frac{ 1}{r x^\\star} - \\Gamma  \\chi\\bigg|^{-2} Dz < \\phi ^{-1}\n",
    "\\end{align}\n",
    "$$\n",
    "\n",
    "where:\n",
    "\n",
    "$\\phi$ is the propotion of non-extinct strategies.  We have included a function to check the stability condition below"
   ]
  },
  {
   "cell_type": "code",
   "execution_count": 4,
   "metadata": {},
   "outputs": [],
   "source": [
    "def custom_loss(r, gamma):\n",
    "\n",
    "    def loss(x0):\n",
    "\n",
    "        '''Deviation from self-sufficiency condition is treated as a loss function to minimise'''\n",
    "        '''Do gradient descent -> 0 to find optimal parameters'''\n",
    "\n",
    "        K,a,b =x0\n",
    "\n",
    "        x, deriv_x, crit_z , x_crit= return_x(K,a ,b)\n",
    "\n",
    "        integrand_1  = lambda z : x(z) * Dz(z)\n",
    "        integrand_2  = lambda z : x(z)**2 * Dz(z)\n",
    "        integrand_3  = lambda z : deriv_x(z)* Dz(z)\n",
    "\n",
    "        '''Scipy quad integration with a bazillion cuts for numerical accuracy'''\n",
    "        cuts= 5000000\n",
    "        eps= 1e-9\n",
    "\n",
    "        loss_1 = 1 - quad(integrand_1, -np.inf, crit_z- eps, epsabs=1.49e-12, epsrel=1.49e-12, limit=cuts)[0]\n",
    "        loss_2 = (b/r)**2 - quad(integrand_2, -np.inf, crit_z- eps, epsabs=1.49e-12, epsrel=1.49e-12, limit=cuts)[0]\n",
    "        loss_3 = (a/(gamma*r)) - ( quad(integrand_3, -np.inf, crit_z- eps, epsabs=1.49e-12, epsrel=1.49e-12, limit=cuts)[0] - x_crit * Dz(crit_z))\n",
    "\n",
    "        '''Loss = square deviation from self-sufficency equations'''\n",
    "        losses= loss_1**2 +  loss_2**2 + loss_3**2\n",
    "\n",
    "        return losses\n",
    "    \n",
    "    def stability_check(x0):\n",
    "\n",
    "        '''Checks the stability given a choice of x(z)'''\n",
    "\n",
    "        '''Output = +ve   =>  Unstable'''\n",
    "        '''Output = -ve   =>  Stable'''\n",
    "        '''Output = 0   =>  Boundary of Stability'''\n",
    "\n",
    "        K,a,b = x0\n",
    "\n",
    "        x, deriv_x, crit_z , x_crit= return_x(K,a ,b)\n",
    "\n",
    "        stability_integrand = lambda z: Dz(z) * ( x(z)/ (1-a*x(z)) )**2\n",
    "\n",
    "        cuts= 5000000\n",
    "        eps= 2e-8\n",
    "\n",
    "        stability_integral= quad(stability_integrand, -np.inf, crit_z- eps, epsabs=1.49e-15, epsrel=1.49e-15, limit=cuts )[0] + stability_integrand(crit_z -0.5*eps) * eps\n",
    "        phi =   stats.norm.cdf(crit_z)\n",
    "      \n",
    "        #phi*r**2 *stability_integral - 1\n",
    "        return phi*r**2 *stability_integral - 1 \n",
    "    \n",
    "    return loss, stability_check\n",
    "\n",
    "def stability_r(gamma,x0 ,r0):\n",
    "\n",
    "  '''Find Stability Boundary given Gamma, r  and initial guess x0 (K0, a0, b0) (only works if initial guess is close enough)'''\n",
    "    \n",
    "  def root_function(r):\n",
    "\n",
    "    loss_f, stab_check= custom_loss(r, gamma)\n",
    "    res= minimize(loss_f, x0, bounds = [(1e-7, None), (1e-8, None), (1e-8, None)], method='Nelder-Mead', tol=1e-8)\n",
    "\n",
    "    return stab_check(res.x)\n",
    "  \n",
    "  sol= optimize.root(root_function, r0, tol=1e-8, method='lm', options = {'maxstep': 0.01})\n",
    "\n",
    "  return sol"
   ]
  },
  {
   "cell_type": "markdown",
   "metadata": {},
   "source": [
    "### Demo on a selected r and $\\Gamma$"
   ]
  },
  {
   "cell_type": "code",
   "execution_count": 13,
   "metadata": {},
   "outputs": [
    {
     "name": "stdout",
     "output_type": "stream",
     "text": [
      "loss: 1.0482091106657335e-17\n",
      "parameters: [0.7592959  0.03574393 0.65948725]\n",
      "stab_check: -0.007248844662147924\n"
     ]
    }
   ],
   "source": [
    "#Initialise initial guess\n",
    "\n",
    "K0, a0, b0 = 0.7592959,  0.03574393, 0.65948725\n",
    "r , gamma = 0.51, 0.1\n",
    "initial_guess= [K0, a0 ,b0]\n",
    "\n",
    "#Create loss functions corresponding to r and Gamma\n",
    "loss_f, stab_check= custom_loss(r= r, gamma= gamma)\n",
    "\n",
    "#Disable Integration warning.  Often our integration has a 'pole' but the integration converges. The magnitude of the estimated loss gives us a rough idea, though it is likely an underestimate.\n",
    "warnings.filterwarnings('ignore', category=UserWarning)\n",
    "\n",
    "#Conduct gradient-descent to identify optimum parameter values\n",
    "res= minimize(loss_f, initial_guess, bounds = [(1e-7, None), (1e-8, None), (1e-8, None)], method='Nelder-Mead', tol=1e-8)\n",
    "\n",
    "#Display loss (deviation from self-sufficiency eq)\n",
    "print(f'loss: {res.fun}')\n",
    "#Display parameters K,a,b.\n",
    "print(f'parameters: {res.x}')\n",
    "#Check stability \n",
    "print(f'stab_check: {stab_check(res.x)}')"
   ]
  },
  {
   "cell_type": "code",
   "execution_count": 14,
   "metadata": {},
   "outputs": [],
   "source": [
    "#Reenable warnings\n",
    "warnings.filterwarnings('default', category=UserWarning)"
   ]
  },
  {
   "cell_type": "markdown",
   "metadata": {},
   "source": [
    "Below is the stability curve corresponding to the Ansatz above. This had been done through searching tuning the initial conditions for each r and $\\Gamma$ by hand. "
   ]
  },
  {
   "cell_type": "code",
   "execution_count": 15,
   "metadata": {},
   "outputs": [
    {
     "data": {
      "image/png": "[encoded data removed]",
      "text/plain": [
       "<Figure size 1500x600 with 1 Axes>"
      ]
     },
     "metadata": {},
     "output_type": "display_data"
    }
   ],
   "source": [
    "import matplotlib.pyplot as plt\n",
    "\n",
    "r_arr= np.array([0.554,0.537,0.522,0.510,\n",
    "        0.500, 0.490, 0.482, 0.474, 0.467,\n",
    "        0.461, 0.454, 0.449, 0.443, 0.438,\n",
    "        0.433, 0.429, 0.4245, 0.4200, 0.416,\n",
    "        0.413, 0.409, 0.406, 0.402, 0.399,\n",
    "        0.396, 0.393, 0.390, 0.387, 0.385,\n",
    "        0.382, 0.3793, 0.377, 0.3745, 0.3722,\n",
    "        0.3699, 0.3677, 0.3655, 0.3634, 0.3614,\n",
    "        0.3594, 0.3574, 0.3555, 0.3537, 0.3518,\n",
    "        0.3501, 0.3484, 0.3466, 0.3449, 0.3433])\n",
    "gamma_arr= np.linspace(0.04, 1, 49)\n",
    "\n",
    "\n",
    "f, ax = plt.subplots(figsize=(15, 6))\n",
    "\n",
    "plt.plot(1/r_arr, gamma_arr, color='black', marker='*', linestyle='dashed')\n",
    "\n",
    "plt.plot([1/0.569], [0],'o' )\n",
    "plt.grid()\n",
    "\n",
    "ax.set_xlim((0,3)); \n",
    "ax.set_ylim((0,1));  \n",
    "\n",
    "plt.title(\" Plot of Stability curve for positive Gamma \")\n",
    "plt.ylabel(\"Gamma\")\n",
    "plt.xlabel(\"r^-1\");"
   ]
  }
 ],
 "metadata": {
  "kernelspec": {
   "display_name": "base",
   "language": "python",
   "name": "python3"
  },
  "language_info": {
   "codemirror_mode": {
    "name": "ipython",
    "version": 3
   },
   "file_extension": ".py",
   "mimetype": "text/x-python",
   "name": "python",
   "nbconvert_exporter": "python",
   "pygments_lexer": "ipython3",
   "version": "3.11.4"
  }
 },
 "nbformat": 4,
 "nbformat_minor": 2
}
